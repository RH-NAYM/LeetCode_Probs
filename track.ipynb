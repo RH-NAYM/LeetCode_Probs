{
 "cells": [
  {
   "cell_type": "code",
   "execution_count": null,
   "metadata": {},
   "outputs": [],
   "source": [
    "# twoSum\n",
    "class Solution(object):\n",
    "    def twoSum(self, nums, target):\n",
    "        for i in range(len(nums)):\n",
    "            for j in range(i+1, len(nums)):\n",
    "                if nums[i]+nums[j]==target:\n",
    "                    return [i,j]"
   ]
  },
  {
   "cell_type": "code",
   "execution_count": 2,
   "metadata": {},
   "outputs": [],
   "source": [
    "# is_palindrome\n",
    "class Solution(object):\n",
    "    def isPalindrome(self, x):\n",
    "        num = str(x)\n",
    "        remNum = num[::-1]\n",
    "        if remNum==num:\n",
    "            res = True\n",
    "        else:\n",
    "            res = False\n",
    "        return res"
   ]
  },
  {
   "cell_type": "code",
   "execution_count": null,
   "metadata": {},
   "outputs": [],
   "source": [
    "# Roman to int\n",
    "class Solution(object):\n",
    "    def romanToInt(self, s):\n",
    "        data = {\n",
    "                'I': 1,\n",
    "                'V': 5,\n",
    "                'X': 10,\n",
    "                'L': 50,\n",
    "                'C': 100,\n",
    "                'D': 500,\n",
    "                'M': 1000\n",
    "                }\n",
    "    \n",
    "        total = 0\n",
    "        prev_value = 0\n",
    "        \n",
    "        for char in reversed(s):\n",
    "            value = data[char]        \n",
    "            if value < prev_value:\n",
    "                total -= value\n",
    "            else:\n",
    "                total += value\n",
    "            prev_value = value\n",
    "        \n",
    "        return total"
   ]
  },
  {
   "cell_type": "code",
   "execution_count": null,
   "metadata": {},
   "outputs": [],
   "source": [
    "# Longest common prefix\n",
    "class Solution(object):\n",
    "    def longestCommonPrefix(self, strs):\n",
    "        \"\"\"\n",
    "        :type strs: List[str]\n",
    "        :rtype: str\n",
    "        \"\"\"\n",
    "        def is_common_prefix(strs, length):\n",
    "            prefix = strs[0][:length]\n",
    "            for s in strs[1:]:\n",
    "                if not s.startswith(prefix):\n",
    "                    return False\n",
    "            return True\n",
    "        if not strs:\n",
    "                return \"\"\n",
    "            \n",
    "        min_length = min(len(s) for s in strs)\n",
    "        \n",
    "        low, high = 0, min_length\n",
    "        \n",
    "        while low <= high:\n",
    "            mid = (low + high) // 2\n",
    "            if is_common_prefix(strs, mid):\n",
    "                low = mid + 1\n",
    "            else:\n",
    "                high = mid - 1\n",
    "        \n",
    "        return strs[0][: (low + high) // 2]\n",
    "        "
   ]
  }
 ],
 "metadata": {
  "kernelspec": {
   "display_name": "base",
   "language": "python",
   "name": "python3"
  },
  "language_info": {
   "codemirror_mode": {
    "name": "ipython",
    "version": 3
   },
   "file_extension": ".py",
   "mimetype": "text/x-python",
   "name": "python",
   "nbconvert_exporter": "python",
   "pygments_lexer": "ipython3",
   "version": "3.12.2"
  }
 },
 "nbformat": 4,
 "nbformat_minor": 2
}
